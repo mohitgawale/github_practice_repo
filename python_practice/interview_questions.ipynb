{
 "cells": [
  {
   "cell_type": "code",
   "execution_count": null,
   "metadata": {},
   "outputs": [],
   "source": [
    "import pandas as pd"
   ]
  },
  {
   "cell_type": "code",
   "execution_count": 26,
   "metadata": {},
   "outputs": [],
   "source": [
    "my_string = 'aaabbccc'"
   ]
  },
  {
   "cell_type": "code",
   "execution_count": 30,
   "metadata": {},
   "outputs": [
    {
     "name": "stdout",
     "output_type": "stream",
     "text": [
      "a a  == \n",
      "a a  == \n",
      "a b NOT\n",
      "b b  == \n",
      "b c NOT\n",
      "c c  == \n",
      "c c  == \n"
     ]
    }
   ],
   "source": [
    "out_str = ''\n",
    "counter = 1\n",
    "for i in range(0,len(my_string)):\n",
    "  try:\n",
    "    j = i+1\n",
    "    # print(my_string[i],my_string[j])\n",
    "    # print(i,j)\n",
    "    if my_string[i] == my_string[j]:\n",
    "      print(my_string[i],my_string[j],\" == \")\n",
    "      counter = counter+1\n",
    "    elif my_string[i] != my_string[j]:\n",
    "      print(my_string[i],my_string[j], \"NOT\")\n",
    "      out_str =  str(out_str)+ str(my_string[i])+ str(counter)\n",
    "      counter = 1\n",
    "  except:\n",
    "    out_str =  str(out_str)+ str(my_string[i])+ str(counter)\n",
    "    counter = 1"
   ]
  },
  {
   "cell_type": "code",
   "execution_count": 75,
   "metadata": {},
   "outputs": [],
   "source": [
    "# a = 'abcddeffghi'\n",
    "# a = 'bbbbbbb'\n",
    "a = 'pwwkew'"
   ]
  },
  {
   "cell_type": "code",
   "execution_count": 80,
   "metadata": {},
   "outputs": [],
   "source": [
    "out_str = ''\n",
    "out_ls = []\n",
    "for i in range(0,len(a)-1):\n",
    "  j = i + 1\n",
    "  # print(a[i],a[j])\n",
    "  if a[i] != a[j]:\n",
    "    if a[i] not in out_str:\n",
    "      out_str = out_str + str(a[i])\n",
    "  elif a[i] == a[j]:\n",
    "      out_str = out_str + str(a[i])\n",
    "      if a[i] not in out_ls:\n",
    "        out_ls.append(out_str)\n",
    "      out_str = ''\n",
    "  if i == len(a)-2:\n",
    "      if a[i] not in out_str:\n",
    "        out_str = out_str + str(a[j])\n",
    "      if a[i] not in out_ls:\n",
    "        out_ls.append(out_str)\n",
    "      out_str = ''\n",
    "    \n"
   ]
  },
  {
   "cell_type": "code",
   "execution_count": 83,
   "metadata": {},
   "outputs": [
    {
     "name": "stdout",
     "output_type": "stream",
     "text": [
      "2\n",
      "3\n"
     ]
    }
   ],
   "source": [
    "for i in out_ls:\n",
    "  print(len(i))\n"
   ]
  },
  {
   "cell_type": "code",
   "execution_count": 102,
   "metadata": {},
   "outputs": [],
   "source": [
    "s = \"   fly me   to   the moon  \"\n",
    "word_list = s.split(' ')"
   ]
  },
  {
   "cell_type": "code",
   "execution_count": 103,
   "metadata": {},
   "outputs": [
    {
     "data": {
      "text/plain": [
       "['', '', '', 'fly', 'me', '', '', 'to', '', '', 'the', 'moon', '', '']"
      ]
     },
     "execution_count": 103,
     "metadata": {},
     "output_type": "execute_result"
    }
   ],
   "source": [
    "word_list"
   ]
  },
  {
   "cell_type": "code",
   "execution_count": 105,
   "metadata": {},
   "outputs": [],
   "source": [
    "final_word_list = []\n",
    "for i in range(0,len(word_list)):\n",
    "  if word_list[i] !='':\n",
    "    final_word_list.append(word_list[i])\n",
    "    "
   ]
  },
  {
   "cell_type": "code",
   "execution_count": 107,
   "metadata": {},
   "outputs": [
    {
     "data": {
      "text/plain": [
       "'moon'"
      ]
     },
     "execution_count": 107,
     "metadata": {},
     "output_type": "execute_result"
    }
   ],
   "source": [
    "final_word_list[-1]"
   ]
  },
  {
   "cell_type": "code",
   "execution_count": 147,
   "metadata": {},
   "outputs": [
    {
     "name": "stdout",
     "output_type": "stream",
     "text": [
      "A\n",
      " not a palindrome\n",
      "Palindrome\n"
     ]
    }
   ],
   "source": [
    "a = \"Aa\"\n",
    "for i in range(0,len(a)):\n",
    "  print(a[i])\n",
    "  if a[i] != a[len(a)- 1 - i]:\n",
    "    print(\" not a palindrome\")\n",
    "    break\n",
    "\n",
    "print(\"Palindrome\")\n"
   ]
  },
  {
   "cell_type": "code",
   "execution_count": 146,
   "metadata": {},
   "outputs": [
    {
     "name": "stdout",
     "output_type": "stream",
     "text": [
      "AmanaplanacanalPanama\n",
      "['A', 'man,', 'a', 'plan,', 'a', 'canal:', 'Panama']\n"
     ]
    }
   ],
   "source": [
    "import re\n",
    "\n",
    "s = \"A man, a plan, a canal: Panama\"\n",
    "cleaned_string = re.sub(r'[^A-Za-z0-9]', '', s)\n",
    "print(cleaned_string)\n",
    "print(s.split(' '))"
   ]
  },
  {
   "cell_type": "code",
   "execution_count": 172,
   "metadata": {},
   "outputs": [
    {
     "name": "stdout",
     "output_type": "stream",
     "text": [
      "False\n",
      "1st\n",
      "( )\n",
      "True\n",
      "False\n",
      "False\n"
     ]
    }
   ],
   "source": [
    "s = '()[}]'\n",
    "skip_flag = False\n",
    "for i in range(0,len(s)-1):\n",
    "    print(skip_flag)\n",
    "    if skip_flag == False:\n",
    "      if s[i] == '(' and s[i+1] == ')':\n",
    "          print('1st')\n",
    "          print(s[i],s[i+1])\n",
    "          skip_flag = True\n",
    "          pass\n",
    "      elif s[i] == '[' and s[i+1] ==']':\n",
    "          print('2nd')\n",
    "          print(s[i],s[i+1])\n",
    "          skip_flag = True\n",
    "          pass\n",
    "      elif s[i] == '{' and s[i+1] =='}':\n",
    "          print('1st')\n",
    "          print(s[i],s[i+1])\n",
    "          skip_flag = True\n",
    "          pass\n",
    "      else:\n",
    "         return False \n",
    "    else:\n",
    "      skip_flag = False\n",
    "return True  "
   ]
  },
  {
   "cell_type": "code",
   "execution_count": null,
   "metadata": {},
   "outputs": [],
   "source": [
    "class Solution:\n",
    "    def isValid(self, s: str) -> bool:\n",
    "        skip_flag = False\n",
    "        for i in range(0,len(s)-1):\n",
    "            print(skip_flag)\n",
    "            if skip_flag == False:\n",
    "                print(s[i],s[i+1])\n",
    "                if s[i] == '(' and s[i+1] == ')':\n",
    "                    print('1st')\n",
    "                    print(s[i],s[i+1])\n",
    "                    skip_flag = True\n",
    "                    pass\n",
    "                elif s[i] == '[' and s[i+1] ==']':\n",
    "                    print('2nd')\n",
    "                    print(s[i],s[i+1])\n",
    "                    skip_flag = True\n",
    "                    pass\n",
    "                elif s[i] == '{' and s[i+1] =='}':\n",
    "                    print('3rd')\n",
    "                    print(s[i],s[i+1])\n",
    "                    skip_flag = True\n",
    "                    pass\n",
    "                else:\n",
    "                    return False \n",
    "            else:\n",
    "                skip_flag = False\n",
    "        return True  "
   ]
  }
 ],
 "metadata": {
  "kernelspec": {
   "display_name": "Python 3",
   "language": "python",
   "name": "python3"
  },
  "language_info": {
   "codemirror_mode": {
    "name": "ipython",
    "version": 3
   },
   "file_extension": ".py",
   "mimetype": "text/x-python",
   "name": "python",
   "nbconvert_exporter": "python",
   "pygments_lexer": "ipython3",
   "version": "3.9.6"
  }
 },
 "nbformat": 4,
 "nbformat_minor": 2
}
